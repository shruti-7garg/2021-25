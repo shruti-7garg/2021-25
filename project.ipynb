{
  "nbformat": 4,
  "nbformat_minor": 0,
  "metadata": {
    "colab": {
      "provenance": [],
      "authorship_tag": "ABX9TyPQKqq3zVW7pzaTBuCxz3Vn",
      "include_colab_link": true
    },
    "kernelspec": {
      "name": "python3",
      "display_name": "Python 3"
    },
    "language_info": {
      "name": "python"
    },
    "widgets": {
      "application/vnd.jupyter.widget-state+json": {
        "510b7ea1b2af4aa9b35a000202d8db93": {
          "model_module": "@jupyter-widgets/controls",
          "model_name": "HBoxModel",
          "model_module_version": "1.5.0",
          "state": {
            "_dom_classes": [],
            "_model_module": "@jupyter-widgets/controls",
            "_model_module_version": "1.5.0",
            "_model_name": "HBoxModel",
            "_view_count": null,
            "_view_module": "@jupyter-widgets/controls",
            "_view_module_version": "1.5.0",
            "_view_name": "HBoxView",
            "box_style": "",
            "children": [
              "IPY_MODEL_472661a61dbe4378a5f908e9a45c38c6",
              "IPY_MODEL_5932f0d6eef54a72a214055dc58a315d",
              "IPY_MODEL_bb82c75093bd4d6abd867b6da292eafc"
            ],
            "layout": "IPY_MODEL_6f4188b15f714c04a1b28208a482f5de"
          }
        },
        "472661a61dbe4378a5f908e9a45c38c6": {
          "model_module": "@jupyter-widgets/controls",
          "model_name": "HTMLModel",
          "model_module_version": "1.5.0",
          "state": {
            "_dom_classes": [],
            "_model_module": "@jupyter-widgets/controls",
            "_model_module_version": "1.5.0",
            "_model_name": "HTMLModel",
            "_view_count": null,
            "_view_module": "@jupyter-widgets/controls",
            "_view_module_version": "1.5.0",
            "_view_name": "HTMLView",
            "description": "",
            "description_tooltip": null,
            "layout": "IPY_MODEL_d4ef0d921b3f4bd88fcc6f0ca8ec6ee8",
            "placeholder": "​",
            "style": "IPY_MODEL_47b44f98d4e74588a11571643342db6e",
            "value": "preprocessor_config.json: 100%"
          }
        },
        "5932f0d6eef54a72a214055dc58a315d": {
          "model_module": "@jupyter-widgets/controls",
          "model_name": "FloatProgressModel",
          "model_module_version": "1.5.0",
          "state": {
            "_dom_classes": [],
            "_model_module": "@jupyter-widgets/controls",
            "_model_module_version": "1.5.0",
            "_model_name": "FloatProgressModel",
            "_view_count": null,
            "_view_module": "@jupyter-widgets/controls",
            "_view_module_version": "1.5.0",
            "_view_name": "ProgressView",
            "bar_style": "success",
            "description": "",
            "description_tooltip": null,
            "layout": "IPY_MODEL_35d26965bdd049829bad6ac7ef063e21",
            "max": 160,
            "min": 0,
            "orientation": "horizontal",
            "style": "IPY_MODEL_b7ecc4a2d2a94e1a862832cf5081bf9a",
            "value": 160
          }
        },
        "bb82c75093bd4d6abd867b6da292eafc": {
          "model_module": "@jupyter-widgets/controls",
          "model_name": "HTMLModel",
          "model_module_version": "1.5.0",
          "state": {
            "_dom_classes": [],
            "_model_module": "@jupyter-widgets/controls",
            "_model_module_version": "1.5.0",
            "_model_name": "HTMLModel",
            "_view_count": null,
            "_view_module": "@jupyter-widgets/controls",
            "_view_module_version": "1.5.0",
            "_view_name": "HTMLView",
            "description": "",
            "description_tooltip": null,
            "layout": "IPY_MODEL_0586a3f65253416bbcdb514469c76637",
            "placeholder": "​",
            "style": "IPY_MODEL_4dc957e491204985a43012ea3c2cf65f",
            "value": " 160/160 [00:00&lt;00:00, 10.3kB/s]"
          }
        },
        "6f4188b15f714c04a1b28208a482f5de": {
          "model_module": "@jupyter-widgets/base",
          "model_name": "LayoutModel",
          "model_module_version": "1.2.0",
          "state": {
            "_model_module": "@jupyter-widgets/base",
            "_model_module_version": "1.2.0",
            "_model_name": "LayoutModel",
            "_view_count": null,
            "_view_module": "@jupyter-widgets/base",
            "_view_module_version": "1.2.0",
            "_view_name": "LayoutView",
            "align_content": null,
            "align_items": null,
            "align_self": null,
            "border": null,
            "bottom": null,
            "display": null,
            "flex": null,
            "flex_flow": null,
            "grid_area": null,
            "grid_auto_columns": null,
            "grid_auto_flow": null,
            "grid_auto_rows": null,
            "grid_column": null,
            "grid_gap": null,
            "grid_row": null,
            "grid_template_areas": null,
            "grid_template_columns": null,
            "grid_template_rows": null,
            "height": null,
            "justify_content": null,
            "justify_items": null,
            "left": null,
            "margin": null,
            "max_height": null,
            "max_width": null,
            "min_height": null,
            "min_width": null,
            "object_fit": null,
            "object_position": null,
            "order": null,
            "overflow": null,
            "overflow_x": null,
            "overflow_y": null,
            "padding": null,
            "right": null,
            "top": null,
            "visibility": null,
            "width": null
          }
        },
        "d4ef0d921b3f4bd88fcc6f0ca8ec6ee8": {
          "model_module": "@jupyter-widgets/base",
          "model_name": "LayoutModel",
          "model_module_version": "1.2.0",
          "state": {
            "_model_module": "@jupyter-widgets/base",
            "_model_module_version": "1.2.0",
            "_model_name": "LayoutModel",
            "_view_count": null,
            "_view_module": "@jupyter-widgets/base",
            "_view_module_version": "1.2.0",
            "_view_name": "LayoutView",
            "align_content": null,
            "align_items": null,
            "align_self": null,
            "border": null,
            "bottom": null,
            "display": null,
            "flex": null,
            "flex_flow": null,
            "grid_area": null,
            "grid_auto_columns": null,
            "grid_auto_flow": null,
            "grid_auto_rows": null,
            "grid_column": null,
            "grid_gap": null,
            "grid_row": null,
            "grid_template_areas": null,
            "grid_template_columns": null,
            "grid_template_rows": null,
            "height": null,
            "justify_content": null,
            "justify_items": null,
            "left": null,
            "margin": null,
            "max_height": null,
            "max_width": null,
            "min_height": null,
            "min_width": null,
            "object_fit": null,
            "object_position": null,
            "order": null,
            "overflow": null,
            "overflow_x": null,
            "overflow_y": null,
            "padding": null,
            "right": null,
            "top": null,
            "visibility": null,
            "width": null
          }
        },
        "47b44f98d4e74588a11571643342db6e": {
          "model_module": "@jupyter-widgets/controls",
          "model_name": "DescriptionStyleModel",
          "model_module_version": "1.5.0",
          "state": {
            "_model_module": "@jupyter-widgets/controls",
            "_model_module_version": "1.5.0",
            "_model_name": "DescriptionStyleModel",
            "_view_count": null,
            "_view_module": "@jupyter-widgets/base",
            "_view_module_version": "1.2.0",
            "_view_name": "StyleView",
            "description_width": ""
          }
        },
        "35d26965bdd049829bad6ac7ef063e21": {
          "model_module": "@jupyter-widgets/base",
          "model_name": "LayoutModel",
          "model_module_version": "1.2.0",
          "state": {
            "_model_module": "@jupyter-widgets/base",
            "_model_module_version": "1.2.0",
            "_model_name": "LayoutModel",
            "_view_count": null,
            "_view_module": "@jupyter-widgets/base",
            "_view_module_version": "1.2.0",
            "_view_name": "LayoutView",
            "align_content": null,
            "align_items": null,
            "align_self": null,
            "border": null,
            "bottom": null,
            "display": null,
            "flex": null,
            "flex_flow": null,
            "grid_area": null,
            "grid_auto_columns": null,
            "grid_auto_flow": null,
            "grid_auto_rows": null,
            "grid_column": null,
            "grid_gap": null,
            "grid_row": null,
            "grid_template_areas": null,
            "grid_template_columns": null,
            "grid_template_rows": null,
            "height": null,
            "justify_content": null,
            "justify_items": null,
            "left": null,
            "margin": null,
            "max_height": null,
            "max_width": null,
            "min_height": null,
            "min_width": null,
            "object_fit": null,
            "object_position": null,
            "order": null,
            "overflow": null,
            "overflow_x": null,
            "overflow_y": null,
            "padding": null,
            "right": null,
            "top": null,
            "visibility": null,
            "width": null
          }
        },
        "b7ecc4a2d2a94e1a862832cf5081bf9a": {
          "model_module": "@jupyter-widgets/controls",
          "model_name": "ProgressStyleModel",
          "model_module_version": "1.5.0",
          "state": {
            "_model_module": "@jupyter-widgets/controls",
            "_model_module_version": "1.5.0",
            "_model_name": "ProgressStyleModel",
            "_view_count": null,
            "_view_module": "@jupyter-widgets/base",
            "_view_module_version": "1.2.0",
            "_view_name": "StyleView",
            "bar_color": null,
            "description_width": ""
          }
        },
        "0586a3f65253416bbcdb514469c76637": {
          "model_module": "@jupyter-widgets/base",
          "model_name": "LayoutModel",
          "model_module_version": "1.2.0",
          "state": {
            "_model_module": "@jupyter-widgets/base",
            "_model_module_version": "1.2.0",
            "_model_name": "LayoutModel",
            "_view_count": null,
            "_view_module": "@jupyter-widgets/base",
            "_view_module_version": "1.2.0",
            "_view_name": "LayoutView",
            "align_content": null,
            "align_items": null,
            "align_self": null,
            "border": null,
            "bottom": null,
            "display": null,
            "flex": null,
            "flex_flow": null,
            "grid_area": null,
            "grid_auto_columns": null,
            "grid_auto_flow": null,
            "grid_auto_rows": null,
            "grid_column": null,
            "grid_gap": null,
            "grid_row": null,
            "grid_template_areas": null,
            "grid_template_columns": null,
            "grid_template_rows": null,
            "height": null,
            "justify_content": null,
            "justify_items": null,
            "left": null,
            "margin": null,
            "max_height": null,
            "max_width": null,
            "min_height": null,
            "min_width": null,
            "object_fit": null,
            "object_position": null,
            "order": null,
            "overflow": null,
            "overflow_x": null,
            "overflow_y": null,
            "padding": null,
            "right": null,
            "top": null,
            "visibility": null,
            "width": null
          }
        },
        "4dc957e491204985a43012ea3c2cf65f": {
          "model_module": "@jupyter-widgets/controls",
          "model_name": "DescriptionStyleModel",
          "model_module_version": "1.5.0",
          "state": {
            "_model_module": "@jupyter-widgets/controls",
            "_model_module_version": "1.5.0",
            "_model_name": "DescriptionStyleModel",
            "_view_count": null,
            "_view_module": "@jupyter-widgets/base",
            "_view_module_version": "1.2.0",
            "_view_name": "StyleView",
            "description_width": ""
          }
        },
        "0aeea796379343819c6e209b396cbb28": {
          "model_module": "@jupyter-widgets/controls",
          "model_name": "HBoxModel",
          "model_module_version": "1.5.0",
          "state": {
            "_dom_classes": [],
            "_model_module": "@jupyter-widgets/controls",
            "_model_module_version": "1.5.0",
            "_model_name": "HBoxModel",
            "_view_count": null,
            "_view_module": "@jupyter-widgets/controls",
            "_view_module_version": "1.5.0",
            "_view_name": "HBoxView",
            "box_style": "",
            "children": [
              "IPY_MODEL_ced6f54df8e940a4979dcdc33baf81de",
              "IPY_MODEL_79f438c90c094003900032dd152a6793",
              "IPY_MODEL_0348270f8efd4dda84600b66853ee0dc"
            ],
            "layout": "IPY_MODEL_b5b764902fba476bb259a0413fa1ab6e"
          }
        },
        "ced6f54df8e940a4979dcdc33baf81de": {
          "model_module": "@jupyter-widgets/controls",
          "model_name": "HTMLModel",
          "model_module_version": "1.5.0",
          "state": {
            "_dom_classes": [],
            "_model_module": "@jupyter-widgets/controls",
            "_model_module_version": "1.5.0",
            "_model_name": "HTMLModel",
            "_view_count": null,
            "_view_module": "@jupyter-widgets/controls",
            "_view_module_version": "1.5.0",
            "_view_name": "HTMLView",
            "description": "",
            "description_tooltip": null,
            "layout": "IPY_MODEL_7b0d3a73e63a4975ac536d15cdd5913c",
            "placeholder": "​",
            "style": "IPY_MODEL_5ec682c3998041c1a2ef0c20c2c7d3c7",
            "value": "config.json: 100%"
          }
        },
        "79f438c90c094003900032dd152a6793": {
          "model_module": "@jupyter-widgets/controls",
          "model_name": "FloatProgressModel",
          "model_module_version": "1.5.0",
          "state": {
            "_dom_classes": [],
            "_model_module": "@jupyter-widgets/controls",
            "_model_module_version": "1.5.0",
            "_model_name": "FloatProgressModel",
            "_view_count": null,
            "_view_module": "@jupyter-widgets/controls",
            "_view_module_version": "1.5.0",
            "_view_name": "ProgressView",
            "bar_style": "success",
            "description": "",
            "description_tooltip": null,
            "layout": "IPY_MODEL_7844e838a97e485ba7b38a6ea1c3fda6",
            "max": 502,
            "min": 0,
            "orientation": "horizontal",
            "style": "IPY_MODEL_7ab8e1cf8cc940908ec7c34ba8244808",
            "value": 502
          }
        },
        "0348270f8efd4dda84600b66853ee0dc": {
          "model_module": "@jupyter-widgets/controls",
          "model_name": "HTMLModel",
          "model_module_version": "1.5.0",
          "state": {
            "_dom_classes": [],
            "_model_module": "@jupyter-widgets/controls",
            "_model_module_version": "1.5.0",
            "_model_name": "HTMLModel",
            "_view_count": null,
            "_view_module": "@jupyter-widgets/controls",
            "_view_module_version": "1.5.0",
            "_view_name": "HTMLView",
            "description": "",
            "description_tooltip": null,
            "layout": "IPY_MODEL_6b87668bbf7140d887a3e59e2ca9a292",
            "placeholder": "​",
            "style": "IPY_MODEL_9334c3c70232499fa75188f1585cb059",
            "value": " 502/502 [00:00&lt;00:00, 44.0kB/s]"
          }
        },
        "b5b764902fba476bb259a0413fa1ab6e": {
          "model_module": "@jupyter-widgets/base",
          "model_name": "LayoutModel",
          "model_module_version": "1.2.0",
          "state": {
            "_model_module": "@jupyter-widgets/base",
            "_model_module_version": "1.2.0",
            "_model_name": "LayoutModel",
            "_view_count": null,
            "_view_module": "@jupyter-widgets/base",
            "_view_module_version": "1.2.0",
            "_view_name": "LayoutView",
            "align_content": null,
            "align_items": null,
            "align_self": null,
            "border": null,
            "bottom": null,
            "display": null,
            "flex": null,
            "flex_flow": null,
            "grid_area": null,
            "grid_auto_columns": null,
            "grid_auto_flow": null,
            "grid_auto_rows": null,
            "grid_column": null,
            "grid_gap": null,
            "grid_row": null,
            "grid_template_areas": null,
            "grid_template_columns": null,
            "grid_template_rows": null,
            "height": null,
            "justify_content": null,
            "justify_items": null,
            "left": null,
            "margin": null,
            "max_height": null,
            "max_width": null,
            "min_height": null,
            "min_width": null,
            "object_fit": null,
            "object_position": null,
            "order": null,
            "overflow": null,
            "overflow_x": null,
            "overflow_y": null,
            "padding": null,
            "right": null,
            "top": null,
            "visibility": null,
            "width": null
          }
        },
        "7b0d3a73e63a4975ac536d15cdd5913c": {
          "model_module": "@jupyter-widgets/base",
          "model_name": "LayoutModel",
          "model_module_version": "1.2.0",
          "state": {
            "_model_module": "@jupyter-widgets/base",
            "_model_module_version": "1.2.0",
            "_model_name": "LayoutModel",
            "_view_count": null,
            "_view_module": "@jupyter-widgets/base",
            "_view_module_version": "1.2.0",
            "_view_name": "LayoutView",
            "align_content": null,
            "align_items": null,
            "align_self": null,
            "border": null,
            "bottom": null,
            "display": null,
            "flex": null,
            "flex_flow": null,
            "grid_area": null,
            "grid_auto_columns": null,
            "grid_auto_flow": null,
            "grid_auto_rows": null,
            "grid_column": null,
            "grid_gap": null,
            "grid_row": null,
            "grid_template_areas": null,
            "grid_template_columns": null,
            "grid_template_rows": null,
            "height": null,
            "justify_content": null,
            "justify_items": null,
            "left": null,
            "margin": null,
            "max_height": null,
            "max_width": null,
            "min_height": null,
            "min_width": null,
            "object_fit": null,
            "object_position": null,
            "order": null,
            "overflow": null,
            "overflow_x": null,
            "overflow_y": null,
            "padding": null,
            "right": null,
            "top": null,
            "visibility": null,
            "width": null
          }
        },
        "5ec682c3998041c1a2ef0c20c2c7d3c7": {
          "model_module": "@jupyter-widgets/controls",
          "model_name": "DescriptionStyleModel",
          "model_module_version": "1.5.0",
          "state": {
            "_model_module": "@jupyter-widgets/controls",
            "_model_module_version": "1.5.0",
            "_model_name": "DescriptionStyleModel",
            "_view_count": null,
            "_view_module": "@jupyter-widgets/base",
            "_view_module_version": "1.2.0",
            "_view_name": "StyleView",
            "description_width": ""
          }
        },
        "7844e838a97e485ba7b38a6ea1c3fda6": {
          "model_module": "@jupyter-widgets/base",
          "model_name": "LayoutModel",
          "model_module_version": "1.2.0",
          "state": {
            "_model_module": "@jupyter-widgets/base",
            "_model_module_version": "1.2.0",
            "_model_name": "LayoutModel",
            "_view_count": null,
            "_view_module": "@jupyter-widgets/base",
            "_view_module_version": "1.2.0",
            "_view_name": "LayoutView",
            "align_content": null,
            "align_items": null,
            "align_self": null,
            "border": null,
            "bottom": null,
            "display": null,
            "flex": null,
            "flex_flow": null,
            "grid_area": null,
            "grid_auto_columns": null,
            "grid_auto_flow": null,
            "grid_auto_rows": null,
            "grid_column": null,
            "grid_gap": null,
            "grid_row": null,
            "grid_template_areas": null,
            "grid_template_columns": null,
            "grid_template_rows": null,
            "height": null,
            "justify_content": null,
            "justify_items": null,
            "left": null,
            "margin": null,
            "max_height": null,
            "max_width": null,
            "min_height": null,
            "min_width": null,
            "object_fit": null,
            "object_position": null,
            "order": null,
            "overflow": null,
            "overflow_x": null,
            "overflow_y": null,
            "padding": null,
            "right": null,
            "top": null,
            "visibility": null,
            "width": null
          }
        },
        "7ab8e1cf8cc940908ec7c34ba8244808": {
          "model_module": "@jupyter-widgets/controls",
          "model_name": "ProgressStyleModel",
          "model_module_version": "1.5.0",
          "state": {
            "_model_module": "@jupyter-widgets/controls",
            "_model_module_version": "1.5.0",
            "_model_name": "ProgressStyleModel",
            "_view_count": null,
            "_view_module": "@jupyter-widgets/base",
            "_view_module_version": "1.2.0",
            "_view_name": "StyleView",
            "bar_color": null,
            "description_width": ""
          }
        },
        "6b87668bbf7140d887a3e59e2ca9a292": {
          "model_module": "@jupyter-widgets/base",
          "model_name": "LayoutModel",
          "model_module_version": "1.2.0",
          "state": {
            "_model_module": "@jupyter-widgets/base",
            "_model_module_version": "1.2.0",
            "_model_name": "LayoutModel",
            "_view_count": null,
            "_view_module": "@jupyter-widgets/base",
            "_view_module_version": "1.2.0",
            "_view_name": "LayoutView",
            "align_content": null,
            "align_items": null,
            "align_self": null,
            "border": null,
            "bottom": null,
            "display": null,
            "flex": null,
            "flex_flow": null,
            "grid_area": null,
            "grid_auto_columns": null,
            "grid_auto_flow": null,
            "grid_auto_rows": null,
            "grid_column": null,
            "grid_gap": null,
            "grid_row": null,
            "grid_template_areas": null,
            "grid_template_columns": null,
            "grid_template_rows": null,
            "height": null,
            "justify_content": null,
            "justify_items": null,
            "left": null,
            "margin": null,
            "max_height": null,
            "max_width": null,
            "min_height": null,
            "min_width": null,
            "object_fit": null,
            "object_position": null,
            "order": null,
            "overflow": null,
            "overflow_x": null,
            "overflow_y": null,
            "padding": null,
            "right": null,
            "top": null,
            "visibility": null,
            "width": null
          }
        },
        "9334c3c70232499fa75188f1585cb059": {
          "model_module": "@jupyter-widgets/controls",
          "model_name": "DescriptionStyleModel",
          "model_module_version": "1.5.0",
          "state": {
            "_model_module": "@jupyter-widgets/controls",
            "_model_module_version": "1.5.0",
            "_model_name": "DescriptionStyleModel",
            "_view_count": null,
            "_view_module": "@jupyter-widgets/base",
            "_view_module_version": "1.2.0",
            "_view_name": "StyleView",
            "description_width": ""
          }
        },
        "8664a139c97c43419315f51a660e4792": {
          "model_module": "@jupyter-widgets/controls",
          "model_name": "HBoxModel",
          "model_module_version": "1.5.0",
          "state": {
            "_dom_classes": [],
            "_model_module": "@jupyter-widgets/controls",
            "_model_module_version": "1.5.0",
            "_model_name": "HBoxModel",
            "_view_count": null,
            "_view_module": "@jupyter-widgets/controls",
            "_view_module_version": "1.5.0",
            "_view_name": "HBoxView",
            "box_style": "",
            "children": [
              "IPY_MODEL_ba349a3068524fbb8e2b0488be21619c",
              "IPY_MODEL_f8c91da7948048cc9743eab1a85d0ee1",
              "IPY_MODEL_d6796067897c4d05b7d5bf6f60f1b33b"
            ],
            "layout": "IPY_MODEL_b2cb2e91e6904938a45ddf44a719197b"
          }
        },
        "ba349a3068524fbb8e2b0488be21619c": {
          "model_module": "@jupyter-widgets/controls",
          "model_name": "HTMLModel",
          "model_module_version": "1.5.0",
          "state": {
            "_dom_classes": [],
            "_model_module": "@jupyter-widgets/controls",
            "_model_module_version": "1.5.0",
            "_model_name": "HTMLModel",
            "_view_count": null,
            "_view_module": "@jupyter-widgets/controls",
            "_view_module_version": "1.5.0",
            "_view_name": "HTMLView",
            "description": "",
            "description_tooltip": null,
            "layout": "IPY_MODEL_2b25fae0c3ba4e539f98b27ef325f5f4",
            "placeholder": "​",
            "style": "IPY_MODEL_911e8058587c43479003f60249647f35",
            "value": "model.safetensors: 100%"
          }
        },
        "f8c91da7948048cc9743eab1a85d0ee1": {
          "model_module": "@jupyter-widgets/controls",
          "model_name": "FloatProgressModel",
          "model_module_version": "1.5.0",
          "state": {
            "_dom_classes": [],
            "_model_module": "@jupyter-widgets/controls",
            "_model_module_version": "1.5.0",
            "_model_name": "FloatProgressModel",
            "_view_count": null,
            "_view_module": "@jupyter-widgets/controls",
            "_view_module_version": "1.5.0",
            "_view_name": "ProgressView",
            "bar_style": "success",
            "description": "",
            "description_tooltip": null,
            "layout": "IPY_MODEL_e173d76da884463db36523ae08a25414",
            "max": 345579424,
            "min": 0,
            "orientation": "horizontal",
            "style": "IPY_MODEL_84c5084e3006424b85ba07341682ec77",
            "value": 345579424
          }
        },
        "d6796067897c4d05b7d5bf6f60f1b33b": {
          "model_module": "@jupyter-widgets/controls",
          "model_name": "HTMLModel",
          "model_module_version": "1.5.0",
          "state": {
            "_dom_classes": [],
            "_model_module": "@jupyter-widgets/controls",
            "_model_module_version": "1.5.0",
            "_model_name": "HTMLModel",
            "_view_count": null,
            "_view_module": "@jupyter-widgets/controls",
            "_view_module_version": "1.5.0",
            "_view_name": "HTMLView",
            "description": "",
            "description_tooltip": null,
            "layout": "IPY_MODEL_4db1aa5ca2b244d685b2d341d71d6f54",
            "placeholder": "​",
            "style": "IPY_MODEL_ab303597da5f4c56b8ab34ab368a79e9",
            "value": " 346M/346M [00:02&lt;00:00, 165MB/s]"
          }
        },
        "b2cb2e91e6904938a45ddf44a719197b": {
          "model_module": "@jupyter-widgets/base",
          "model_name": "LayoutModel",
          "model_module_version": "1.2.0",
          "state": {
            "_model_module": "@jupyter-widgets/base",
            "_model_module_version": "1.2.0",
            "_model_name": "LayoutModel",
            "_view_count": null,
            "_view_module": "@jupyter-widgets/base",
            "_view_module_version": "1.2.0",
            "_view_name": "LayoutView",
            "align_content": null,
            "align_items": null,
            "align_self": null,
            "border": null,
            "bottom": null,
            "display": null,
            "flex": null,
            "flex_flow": null,
            "grid_area": null,
            "grid_auto_columns": null,
            "grid_auto_flow": null,
            "grid_auto_rows": null,
            "grid_column": null,
            "grid_gap": null,
            "grid_row": null,
            "grid_template_areas": null,
            "grid_template_columns": null,
            "grid_template_rows": null,
            "height": null,
            "justify_content": null,
            "justify_items": null,
            "left": null,
            "margin": null,
            "max_height": null,
            "max_width": null,
            "min_height": null,
            "min_width": null,
            "object_fit": null,
            "object_position": null,
            "order": null,
            "overflow": null,
            "overflow_x": null,
            "overflow_y": null,
            "padding": null,
            "right": null,
            "top": null,
            "visibility": null,
            "width": null
          }
        },
        "2b25fae0c3ba4e539f98b27ef325f5f4": {
          "model_module": "@jupyter-widgets/base",
          "model_name": "LayoutModel",
          "model_module_version": "1.2.0",
          "state": {
            "_model_module": "@jupyter-widgets/base",
            "_model_module_version": "1.2.0",
            "_model_name": "LayoutModel",
            "_view_count": null,
            "_view_module": "@jupyter-widgets/base",
            "_view_module_version": "1.2.0",
            "_view_name": "LayoutView",
            "align_content": null,
            "align_items": null,
            "align_self": null,
            "border": null,
            "bottom": null,
            "display": null,
            "flex": null,
            "flex_flow": null,
            "grid_area": null,
            "grid_auto_columns": null,
            "grid_auto_flow": null,
            "grid_auto_rows": null,
            "grid_column": null,
            "grid_gap": null,
            "grid_row": null,
            "grid_template_areas": null,
            "grid_template_columns": null,
            "grid_template_rows": null,
            "height": null,
            "justify_content": null,
            "justify_items": null,
            "left": null,
            "margin": null,
            "max_height": null,
            "max_width": null,
            "min_height": null,
            "min_width": null,
            "object_fit": null,
            "object_position": null,
            "order": null,
            "overflow": null,
            "overflow_x": null,
            "overflow_y": null,
            "padding": null,
            "right": null,
            "top": null,
            "visibility": null,
            "width": null
          }
        },
        "911e8058587c43479003f60249647f35": {
          "model_module": "@jupyter-widgets/controls",
          "model_name": "DescriptionStyleModel",
          "model_module_version": "1.5.0",
          "state": {
            "_model_module": "@jupyter-widgets/controls",
            "_model_module_version": "1.5.0",
            "_model_name": "DescriptionStyleModel",
            "_view_count": null,
            "_view_module": "@jupyter-widgets/base",
            "_view_module_version": "1.2.0",
            "_view_name": "StyleView",
            "description_width": ""
          }
        },
        "e173d76da884463db36523ae08a25414": {
          "model_module": "@jupyter-widgets/base",
          "model_name": "LayoutModel",
          "model_module_version": "1.2.0",
          "state": {
            "_model_module": "@jupyter-widgets/base",
            "_model_module_version": "1.2.0",
            "_model_name": "LayoutModel",
            "_view_count": null,
            "_view_module": "@jupyter-widgets/base",
            "_view_module_version": "1.2.0",
            "_view_name": "LayoutView",
            "align_content": null,
            "align_items": null,
            "align_self": null,
            "border": null,
            "bottom": null,
            "display": null,
            "flex": null,
            "flex_flow": null,
            "grid_area": null,
            "grid_auto_columns": null,
            "grid_auto_flow": null,
            "grid_auto_rows": null,
            "grid_column": null,
            "grid_gap": null,
            "grid_row": null,
            "grid_template_areas": null,
            "grid_template_columns": null,
            "grid_template_rows": null,
            "height": null,
            "justify_content": null,
            "justify_items": null,
            "left": null,
            "margin": null,
            "max_height": null,
            "max_width": null,
            "min_height": null,
            "min_width": null,
            "object_fit": null,
            "object_position": null,
            "order": null,
            "overflow": null,
            "overflow_x": null,
            "overflow_y": null,
            "padding": null,
            "right": null,
            "top": null,
            "visibility": null,
            "width": null
          }
        },
        "84c5084e3006424b85ba07341682ec77": {
          "model_module": "@jupyter-widgets/controls",
          "model_name": "ProgressStyleModel",
          "model_module_version": "1.5.0",
          "state": {
            "_model_module": "@jupyter-widgets/controls",
            "_model_module_version": "1.5.0",
            "_model_name": "ProgressStyleModel",
            "_view_count": null,
            "_view_module": "@jupyter-widgets/base",
            "_view_module_version": "1.2.0",
            "_view_name": "StyleView",
            "bar_color": null,
            "description_width": ""
          }
        },
        "4db1aa5ca2b244d685b2d341d71d6f54": {
          "model_module": "@jupyter-widgets/base",
          "model_name": "LayoutModel",
          "model_module_version": "1.2.0",
          "state": {
            "_model_module": "@jupyter-widgets/base",
            "_model_module_version": "1.2.0",
            "_model_name": "LayoutModel",
            "_view_count": null,
            "_view_module": "@jupyter-widgets/base",
            "_view_module_version": "1.2.0",
            "_view_name": "LayoutView",
            "align_content": null,
            "align_items": null,
            "align_self": null,
            "border": null,
            "bottom": null,
            "display": null,
            "flex": null,
            "flex_flow": null,
            "grid_area": null,
            "grid_auto_columns": null,
            "grid_auto_flow": null,
            "grid_auto_rows": null,
            "grid_column": null,
            "grid_gap": null,
            "grid_row": null,
            "grid_template_areas": null,
            "grid_template_columns": null,
            "grid_template_rows": null,
            "height": null,
            "justify_content": null,
            "justify_items": null,
            "left": null,
            "margin": null,
            "max_height": null,
            "max_width": null,
            "min_height": null,
            "min_width": null,
            "object_fit": null,
            "object_position": null,
            "order": null,
            "overflow": null,
            "overflow_x": null,
            "overflow_y": null,
            "padding": null,
            "right": null,
            "top": null,
            "visibility": null,
            "width": null
          }
        },
        "ab303597da5f4c56b8ab34ab368a79e9": {
          "model_module": "@jupyter-widgets/controls",
          "model_name": "DescriptionStyleModel",
          "model_module_version": "1.5.0",
          "state": {
            "_model_module": "@jupyter-widgets/controls",
            "_model_module_version": "1.5.0",
            "_model_name": "DescriptionStyleModel",
            "_view_count": null,
            "_view_module": "@jupyter-widgets/base",
            "_view_module_version": "1.2.0",
            "_view_name": "StyleView",
            "description_width": ""
          }
        }
      }
    }
  },
  "cells": [
    {
      "cell_type": "markdown",
      "metadata": {
        "id": "view-in-github",
        "colab_type": "text"
      },
      "source": [
        "<a href=\"https://colab.research.google.com/github/shruti-7garg/2021-25/blob/main/project.ipynb\" target=\"_parent\"><img src=\"https://colab.research.google.com/assets/colab-badge.svg\" alt=\"Open In Colab\"/></a>"
      ]
    },
    {
      "cell_type": "code",
      "execution_count": null,
      "metadata": {
        "colab": {
          "base_uri": "https://localhost:8080/",
          "height": 73
        },
        "id": "SZ0f1rYTJiuV",
        "outputId": "05dc812d-919c-4753-d8cc-5ed63e7af2c4"
      },
      "outputs": [
        {
          "output_type": "display_data",
          "data": {
            "text/plain": [
              "<IPython.core.display.HTML object>"
            ],
            "text/html": [
              "\n",
              "     <input type=\"file\" id=\"files-5f2c0b0a-008d-4eaa-ba58-b5a47d8a0cfb\" name=\"files[]\" multiple disabled\n",
              "        style=\"border:none\" />\n",
              "     <output id=\"result-5f2c0b0a-008d-4eaa-ba58-b5a47d8a0cfb\">\n",
              "      Upload widget is only available when the cell has been executed in the\n",
              "      current browser session. Please rerun this cell to enable.\n",
              "      </output>\n",
              "      <script>// Copyright 2017 Google LLC\n",
              "//\n",
              "// Licensed under the Apache License, Version 2.0 (the \"License\");\n",
              "// you may not use this file except in compliance with the License.\n",
              "// You may obtain a copy of the License at\n",
              "//\n",
              "//      http://www.apache.org/licenses/LICENSE-2.0\n",
              "//\n",
              "// Unless required by applicable law or agreed to in writing, software\n",
              "// distributed under the License is distributed on an \"AS IS\" BASIS,\n",
              "// WITHOUT WARRANTIES OR CONDITIONS OF ANY KIND, either express or implied.\n",
              "// See the License for the specific language governing permissions and\n",
              "// limitations under the License.\n",
              "\n",
              "/**\n",
              " * @fileoverview Helpers for google.colab Python module.\n",
              " */\n",
              "(function(scope) {\n",
              "function span(text, styleAttributes = {}) {\n",
              "  const element = document.createElement('span');\n",
              "  element.textContent = text;\n",
              "  for (const key of Object.keys(styleAttributes)) {\n",
              "    element.style[key] = styleAttributes[key];\n",
              "  }\n",
              "  return element;\n",
              "}\n",
              "\n",
              "// Max number of bytes which will be uploaded at a time.\n",
              "const MAX_PAYLOAD_SIZE = 100 * 1024;\n",
              "\n",
              "function _uploadFiles(inputId, outputId) {\n",
              "  const steps = uploadFilesStep(inputId, outputId);\n",
              "  const outputElement = document.getElementById(outputId);\n",
              "  // Cache steps on the outputElement to make it available for the next call\n",
              "  // to uploadFilesContinue from Python.\n",
              "  outputElement.steps = steps;\n",
              "\n",
              "  return _uploadFilesContinue(outputId);\n",
              "}\n",
              "\n",
              "// This is roughly an async generator (not supported in the browser yet),\n",
              "// where there are multiple asynchronous steps and the Python side is going\n",
              "// to poll for completion of each step.\n",
              "// This uses a Promise to block the python side on completion of each step,\n",
              "// then passes the result of the previous step as the input to the next step.\n",
              "function _uploadFilesContinue(outputId) {\n",
              "  const outputElement = document.getElementById(outputId);\n",
              "  const steps = outputElement.steps;\n",
              "\n",
              "  const next = steps.next(outputElement.lastPromiseValue);\n",
              "  return Promise.resolve(next.value.promise).then((value) => {\n",
              "    // Cache the last promise value to make it available to the next\n",
              "    // step of the generator.\n",
              "    outputElement.lastPromiseValue = value;\n",
              "    return next.value.response;\n",
              "  });\n",
              "}\n",
              "\n",
              "/**\n",
              " * Generator function which is called between each async step of the upload\n",
              " * process.\n",
              " * @param {string} inputId Element ID of the input file picker element.\n",
              " * @param {string} outputId Element ID of the output display.\n",
              " * @return {!Iterable<!Object>} Iterable of next steps.\n",
              " */\n",
              "function* uploadFilesStep(inputId, outputId) {\n",
              "  const inputElement = document.getElementById(inputId);\n",
              "  inputElement.disabled = false;\n",
              "\n",
              "  const outputElement = document.getElementById(outputId);\n",
              "  outputElement.innerHTML = '';\n",
              "\n",
              "  const pickedPromise = new Promise((resolve) => {\n",
              "    inputElement.addEventListener('change', (e) => {\n",
              "      resolve(e.target.files);\n",
              "    });\n",
              "  });\n",
              "\n",
              "  const cancel = document.createElement('button');\n",
              "  inputElement.parentElement.appendChild(cancel);\n",
              "  cancel.textContent = 'Cancel upload';\n",
              "  const cancelPromise = new Promise((resolve) => {\n",
              "    cancel.onclick = () => {\n",
              "      resolve(null);\n",
              "    };\n",
              "  });\n",
              "\n",
              "  // Wait for the user to pick the files.\n",
              "  const files = yield {\n",
              "    promise: Promise.race([pickedPromise, cancelPromise]),\n",
              "    response: {\n",
              "      action: 'starting',\n",
              "    }\n",
              "  };\n",
              "\n",
              "  cancel.remove();\n",
              "\n",
              "  // Disable the input element since further picks are not allowed.\n",
              "  inputElement.disabled = true;\n",
              "\n",
              "  if (!files) {\n",
              "    return {\n",
              "      response: {\n",
              "        action: 'complete',\n",
              "      }\n",
              "    };\n",
              "  }\n",
              "\n",
              "  for (const file of files) {\n",
              "    const li = document.createElement('li');\n",
              "    li.append(span(file.name, {fontWeight: 'bold'}));\n",
              "    li.append(span(\n",
              "        `(${file.type || 'n/a'}) - ${file.size} bytes, ` +\n",
              "        `last modified: ${\n",
              "            file.lastModifiedDate ? file.lastModifiedDate.toLocaleDateString() :\n",
              "                                    'n/a'} - `));\n",
              "    const percent = span('0% done');\n",
              "    li.appendChild(percent);\n",
              "\n",
              "    outputElement.appendChild(li);\n",
              "\n",
              "    const fileDataPromise = new Promise((resolve) => {\n",
              "      const reader = new FileReader();\n",
              "      reader.onload = (e) => {\n",
              "        resolve(e.target.result);\n",
              "      };\n",
              "      reader.readAsArrayBuffer(file);\n",
              "    });\n",
              "    // Wait for the data to be ready.\n",
              "    let fileData = yield {\n",
              "      promise: fileDataPromise,\n",
              "      response: {\n",
              "        action: 'continue',\n",
              "      }\n",
              "    };\n",
              "\n",
              "    // Use a chunked sending to avoid message size limits. See b/62115660.\n",
              "    let position = 0;\n",
              "    do {\n",
              "      const length = Math.min(fileData.byteLength - position, MAX_PAYLOAD_SIZE);\n",
              "      const chunk = new Uint8Array(fileData, position, length);\n",
              "      position += length;\n",
              "\n",
              "      const base64 = btoa(String.fromCharCode.apply(null, chunk));\n",
              "      yield {\n",
              "        response: {\n",
              "          action: 'append',\n",
              "          file: file.name,\n",
              "          data: base64,\n",
              "        },\n",
              "      };\n",
              "\n",
              "      let percentDone = fileData.byteLength === 0 ?\n",
              "          100 :\n",
              "          Math.round((position / fileData.byteLength) * 100);\n",
              "      percent.textContent = `${percentDone}% done`;\n",
              "\n",
              "    } while (position < fileData.byteLength);\n",
              "  }\n",
              "\n",
              "  // All done.\n",
              "  yield {\n",
              "    response: {\n",
              "      action: 'complete',\n",
              "    }\n",
              "  };\n",
              "}\n",
              "\n",
              "scope.google = scope.google || {};\n",
              "scope.google.colab = scope.google.colab || {};\n",
              "scope.google.colab._files = {\n",
              "  _uploadFiles,\n",
              "  _uploadFilesContinue,\n",
              "};\n",
              "})(self);\n",
              "</script> "
            ]
          },
          "metadata": {}
        },
        {
          "output_type": "stream",
          "name": "stdout",
          "text": [
            "Saving HB(25).jpg to HB(25).jpg\n"
          ]
        }
      ],
      "source": [
        "from google.colab import files\n",
        "uploaded = files.upload()"
      ]
    },
    {
      "cell_type": "code",
      "source": [
        "from PIL import Image\n",
        "import io\n"
      ],
      "metadata": {
        "id": "cGZOlEJjVDLk"
      },
      "execution_count": null,
      "outputs": []
    },
    {
      "cell_type": "code",
      "source": [
        "uploaded.keys()"
      ],
      "metadata": {
        "colab": {
          "base_uri": "https://localhost:8080/"
        },
        "id": "AqiJT0iAXDO1",
        "outputId": "1c9e2b9d-3491-4335-c4c2-725a1f75c5ae"
      },
      "execution_count": null,
      "outputs": [
        {
          "output_type": "execute_result",
          "data": {
            "text/plain": [
              "dict_keys(['HB(25).jpg'])"
            ]
          },
          "metadata": {},
          "execution_count": 3
        }
      ]
    },
    {
      "cell_type": "code",
      "source": [
        "uploaded_file = list(uploaded.keys())[0]"
      ],
      "metadata": {
        "id": "tkomRnn-XueD"
      },
      "execution_count": null,
      "outputs": []
    },
    {
      "cell_type": "code",
      "source": [
        "image = Image.open(io.BytesIO(uploaded[uploaded_file]))"
      ],
      "metadata": {
        "id": "0lOnVqtfX8uh"
      },
      "execution_count": null,
      "outputs": []
    },
    {
      "cell_type": "code",
      "source": [
        "gray_image = image.convert('L')"
      ],
      "metadata": {
        "id": "N7vP7mJQYD9c"
      },
      "execution_count": null,
      "outputs": []
    },
    {
      "cell_type": "code",
      "source": [
        "gray_image.show()"
      ],
      "metadata": {
        "id": "G3NLdgLvYJYw"
      },
      "execution_count": null,
      "outputs": []
    },
    {
      "cell_type": "code",
      "source": [
        "import matplotlib.pyplot as plt\n",
        "\n",
        "# Display the image inline\n",
        "plt.imshow(gray_image, cmap='gray')\n",
        "plt.axis('off')  # Hide axes\n",
        "plt.show()\n"
      ],
      "metadata": {
        "colab": {
          "base_uri": "https://localhost:8080/",
          "height": 389
        },
        "id": "CIu7ZYs3YOmG",
        "outputId": "835dd266-d012-49c9-e1a8-cc6e9a771a5b"
      },
      "execution_count": null,
      "outputs": [
        {
          "output_type": "display_data",
          "data": {
            "text/plain": [
              "<Figure size 640x480 with 1 Axes>"
            ],
            "image/png": "[encoded data removed]"
          },
          "metadata": {}
        }
      ]
    },
    {
      "cell_type": "code",
      "source": [
        "gray_image.save('processed_ecg_image.png')"
      ],
      "metadata": {
        "id": "3ybfN7aaZIVw"
      },
      "execution_count": null,
      "outputs": []
    },
    {
      "cell_type": "code",
      "source": [
        "import numpy as np\n",
        "from PIL import Image\n",
        "from torchvision import transforms\n",
        "import torch\n"
      ],
      "metadata": {
        "id": "zvNk7dExZKs3"
      },
      "execution_count": null,
      "outputs": []
    },
    {
      "cell_type": "code",
      "source": [
        "normalized_image = np.array(gray_image) / 255.0"
      ],
      "metadata": {
        "id": "dbWuPYC-ayoW"
      },
      "execution_count": null,
      "outputs": []
    },
    {
      "cell_type": "code",
      "source": [
        "resized_image = gray_image.resize((224, 224))"
      ],
      "metadata": {
        "id": "lOjshopFa5ol"
      },
      "execution_count": null,
      "outputs": []
    },
    {
      "cell_type": "code",
      "source": [
        "\n",
        "transform = transforms.Compose([\n",
        "    transforms.RandomRotation(10),\n",
        "    transforms.RandomHorizontalFlip(),\n",
        "    transforms.ToTensor()\n",
        "])\n",
        "\n",
        "augmented_image = transform(resized_image)\n"
      ],
      "metadata": {
        "id": "yDojgWUTcm7F"
      },
      "execution_count": null,
      "outputs": []
    },
    {
      "cell_type": "code",
      "source": [
        "\n",
        "image_array = np.array(resized_image).flatten()"
      ],
      "metadata": {
        "id": "In-POdr8cyqq"
      },
      "execution_count": null,
      "outputs": []
    },
    {
      "cell_type": "code",
      "source": [
        "\n",
        "def extract_patches(image_array, patch_size):\n",
        "    patches = []\n",
        "    for i in range(0, image_array.shape[0] - patch_size + 1, patch_size):\n",
        "        for j in range(0, image_array.shape[1] - patch_size + 1, patch_size):\n",
        "            patches.append(image_array[i:i+patch_size, j:j+patch_size])\n",
        "    return np.array(patches)\n",
        "\n",
        "patches = extract_patches(np.array(resized_image), patch_size=16)\n"
      ],
      "metadata": {
        "id": "qT_Emaimc4f8"
      },
      "execution_count": null,
      "outputs": []
    },
    {
      "cell_type": "code",
      "source": [
        "tensor_data = torch.tensor(patches, dtype=torch.float32)"
      ],
      "metadata": {
        "id": "cie-xnjMc_Jb"
      },
      "execution_count": null,
      "outputs": []
    },
    {
      "cell_type": "code",
      "source": [
        "\n",
        "attention_mask = torch.ones(tensor_data.shape[0])"
      ],
      "metadata": {
        "id": "PcQcpi5Ceeoj"
      },
      "execution_count": null,
      "outputs": []
    },
    {
      "cell_type": "code",
      "source": [
        "image_array = np.array(resized_image)"
      ],
      "metadata": {
        "id": "pB1zVCDJf7OT"
      },
      "execution_count": null,
      "outputs": []
    },
    {
      "cell_type": "code",
      "source": [
        "tensor_data = torch.tensor(image_array, dtype=torch.float32).unsqueeze(0)"
      ],
      "metadata": {
        "id": "wtvS5mHaf_pz"
      },
      "execution_count": null,
      "outputs": []
    },
    {
      "cell_type": "code",
      "source": [
        "rgb_image = gray_image.convert('RGB')\n",
        "\n",
        "\n",
        "transform = transforms.ToTensor()\n",
        "tensor_data = transform(rgb_image)"
      ],
      "metadata": {
        "id": "ZJc75TtLktdl"
      },
      "execution_count": null,
      "outputs": []
    },
    {
      "cell_type": "code",
      "source": [
        "tensor_data = tensor_data.unsqueeze(0)"
      ],
      "metadata": {
        "id": "kKxQki1fkDcb"
      },
      "execution_count": null,
      "outputs": []
    },
    {
      "cell_type": "code",
      "source": [
        "\n",
        "tensor_data /= 255.0"
      ],
      "metadata": {
        "id": "8RPS1wHjgf32"
      },
      "execution_count": null,
      "outputs": []
    },
    {
      "cell_type": "code",
      "source": [
        "from transformers import AutoFeatureExtractor, AutoModel\n",
        "\n",
        "# Load a feature extractor and model for image classification\n",
        "feature_extractor = AutoFeatureExtractor.from_pretrained('google/vit-base-patch16-224-in21k')\n",
        "model = AutoModel.from_pretrained('google/vit-base-patch16-224-in21k')\n"
      ],
      "metadata": {
        "colab": {
          "base_uri": "https://localhost:8080/",
          "height": 279,
          "referenced_widgets": [
            "510b7ea1b2af4aa9b35a000202d8db93",
            "472661a61dbe4378a5f908e9a45c38c6",
            "5932f0d6eef54a72a214055dc58a315d",
            "bb82c75093bd4d6abd867b6da292eafc",
            "6f4188b15f714c04a1b28208a482f5de",
            "d4ef0d921b3f4bd88fcc6f0ca8ec6ee8",
            "47b44f98d4e74588a11571643342db6e",
            "35d26965bdd049829bad6ac7ef063e21",
            "b7ecc4a2d2a94e1a862832cf5081bf9a",
            "0586a3f65253416bbcdb514469c76637",
            "4dc957e491204985a43012ea3c2cf65f",
            "0aeea796379343819c6e209b396cbb28",
            "ced6f54df8e940a4979dcdc33baf81de",
            "79f438c90c094003900032dd152a6793",
            "0348270f8efd4dda84600b66853ee0dc",
            "b5b764902fba476bb259a0413fa1ab6e",
            "7b0d3a73e63a4975ac536d15cdd5913c",
            "5ec682c3998041c1a2ef0c20c2c7d3c7",
            "7844e838a97e485ba7b38a6ea1c3fda6",
            "7ab8e1cf8cc940908ec7c34ba8244808",
            "6b87668bbf7140d887a3e59e2ca9a292",
            "9334c3c70232499fa75188f1585cb059",
            "8664a139c97c43419315f51a660e4792",
            "ba349a3068524fbb8e2b0488be21619c",
            "f8c91da7948048cc9743eab1a85d0ee1",
            "d6796067897c4d05b7d5bf6f60f1b33b",
            "b2cb2e91e6904938a45ddf44a719197b",
            "2b25fae0c3ba4e539f98b27ef325f5f4",
            "911e8058587c43479003f60249647f35",
            "e173d76da884463db36523ae08a25414",
            "84c5084e3006424b85ba07341682ec77",
            "4db1aa5ca2b244d685b2d341d71d6f54",
            "ab303597da5f4c56b8ab34ab368a79e9"
          ]
        },
        "id": "HqqBP2l0jShc",
        "outputId": "5c74bcec-2be8-4ed8-b774-e6ce21ee969e"
      },
      "execution_count": null,
      "outputs": [
        {
          "output_type": "stream",
          "name": "stderr",
          "text": [
            "/usr/local/lib/python3.11/dist-packages/huggingface_hub/utils/_auth.py:94: UserWarning: \n",
            "The secret `HF_TOKEN` does not exist in your Colab secrets.\n",
            "To authenticate with the Hugging Face Hub, create a token in your settings tab (https://huggingface.co/settings/tokens), set it as secret in your Google Colab and restart your session.\n",
            "You will be able to reuse this secret in all of your notebooks.\n",
            "Please note that authentication is recommended but still optional to access public models or datasets.\n",
            "  warnings.warn(\n"
          ]
        },
        {
          "output_type": "display_data",
          "data": {
            "text/plain": [
              "preprocessor_config.json:   0%|          | 0.00/160 [00:00<?, ?B/s]"
            ],
            "application/vnd.jupyter.widget-view+json": {
              "version_major": 2,
              "version_minor": 0,
              "model_id": "510b7ea1b2af4aa9b35a000202d8db93"
            }
          },
          "metadata": {}
        },
        {
          "output_type": "display_data",
          "data": {
            "text/plain": [
              "config.json:   0%|          | 0.00/502 [00:00<?, ?B/s]"
            ],
            "application/vnd.jupyter.widget-view+json": {
              "version_major": 2,
              "version_minor": 0,
              "model_id": "0aeea796379343819c6e209b396cbb28"
            }
          },
          "metadata": {}
        },
        {
          "output_type": "stream",
          "name": "stderr",
          "text": [
            "/usr/local/lib/python3.11/dist-packages/transformers/models/vit/feature_extraction_vit.py:28: FutureWarning: The class ViTFeatureExtractor is deprecated and will be removed in version 5 of Transformers. Please use ViTImageProcessor instead.\n",
            "  warnings.warn(\n"
          ]
        },
        {
          "output_type": "display_data",
          "data": {
            "text/plain": [
              "model.safetensors:   0%|          | 0.00/346M [00:00<?, ?B/s]"
            ],
            "application/vnd.jupyter.widget-view+json": {
              "version_major": 2,
              "version_minor": 0,
              "model_id": "8664a139c97c43419315f51a660e4792"
            }
          },
          "metadata": {}
        }
      ]
    },
    {
      "cell_type": "code",
      "source": [
        "device = torch.device('cuda' if torch.cuda.is_available() else 'cpu')\n",
        "model.to(device)\n",
        "tensor_data = tensor_data.to(device)"
      ],
      "metadata": {
        "id": "f_MqvIKUjf04"
      },
      "execution_count": null,
      "outputs": []
    },
    {
      "cell_type": "code",
      "source": [
        "\n",
        "desired_width = 224\n",
        "desired_height = 224\n",
        "resized_image = rgb_image.resize((desired_width, desired_height))"
      ],
      "metadata": {
        "id": "UuQdWYLxlHPb"
      },
      "execution_count": null,
      "outputs": []
    },
    {
      "cell_type": "code",
      "source": [
        "\n",
        "transform = transforms.ToTensor()\n",
        "tensor_data = transform(resized_image)\n",
        "\n",
        "tensor_data = tensor_data.unsqueeze(0)\n",
        "\n",
        "tensor_data /= 255.0\n",
        "\n",
        "device = torch.device('cuda' if torch.cuda.is_available() else 'cpu')\n",
        "tensor_data = tensor_data.to(device)\n"
      ],
      "metadata": {
        "id": "OrSDJPY7lLsO"
      },
      "execution_count": null,
      "outputs": []
    },
    {
      "cell_type": "code",
      "source": [
        "from transformers import AutoFeatureExtractor, AutoModel\n",
        "\n",
        "# Load model\n",
        "feature_extractor = AutoFeatureExtractor.from_pretrained('google/vit-base-patch16-224-in21k')\n",
        "model = AutoModel.from_pretrained('google/vit-base-patch16-224-in21k')\n",
        "model.to(device)\n",
        "\n",
        "model.eval()\n",
        "with torch.no_grad():\n",
        "    outputs = model(pixel_values=tensor_data)"
      ],
      "metadata": {
        "id": "e1dJORCalSg0",
        "colab": {
          "base_uri": "https://localhost:8080/"
        },
        "outputId": "f141fce3-9267-408d-c253-9678e16c153a"
      },
      "execution_count": null,
      "outputs": [
        {
          "output_type": "stream",
          "name": "stderr",
          "text": [
            "/usr/local/lib/python3.11/dist-packages/transformers/models/vit/feature_extraction_vit.py:28: FutureWarning: The class ViTFeatureExtractor is deprecated and will be removed in version 5 of Transformers. Please use ViTImageProcessor instead.\n",
            "  warnings.warn(\n"
          ]
        }
      ]
    },
    {
      "cell_type": "code",
      "source": [
        "\n",
        "print(type(outputs))\n",
        "print(outputs)\n"
      ],
      "metadata": {
        "colab": {
          "base_uri": "https://localhost:8080/"
        },
        "id": "MxqrOKntmrHS",
        "outputId": "3181ed9a-c502-4984-8870-87e9b17dcc83"
      },
      "execution_count": null,
      "outputs": [
        {
          "output_type": "stream",
          "name": "stdout",
          "text": [
            "<class 'transformers.modeling_outputs.BaseModelOutputWithPooling'>\n",
            "BaseModelOutputWithPooling(last_hidden_state=tensor([[[ 0.1569,  0.0328, -0.0252,  ..., -0.0890,  0.0888,  0.0312],\n",
            "         [ 0.2190,  0.1747,  0.0657,  ..., -0.1442,  0.1641, -0.0408],\n",
            "         [ 0.4590,  0.1778, -0.0330,  ..., -0.2279,  0.2069,  0.2751],\n",
            "         ...,\n",
            "         [ 0.4078,  0.0703, -0.0748,  ..., -0.2501,  0.1915,  0.1336],\n",
            "         [ 0.3738,  0.0993, -0.0788,  ..., -0.2482,  0.2284,  0.1353],\n",
            "         [ 0.1832,  0.1366,  0.0014,  ..., -0.0613,  0.1801, -0.0547]]]), pooler_output=tensor([[ 9.8882e-02,  1.0944e-01, -3.2472e-01,  2.6243e-01, -6.3188e-01,\n",
            "          3.7055e-01, -2.1659e-01,  4.2963e-01, -1.2149e-01, -4.4429e-01,\n",
            "         -3.6276e-01,  2.6114e-01, -1.0668e-01,  1.8108e-01, -4.9446e-01,\n",
            "          1.7489e-01, -9.8132e-02,  2.5947e-01, -3.9921e-01,  1.1971e-01,\n",
            "          2.6054e-01, -3.1965e-01,  8.1992e-02,  1.9946e-01,  1.5449e-01,\n",
            "          5.2317e-03, -8.1886e-02, -3.0711e-01,  9.9487e-02, -1.4959e-01,\n",
            "          1.5269e-01,  6.0669e-01,  5.0664e-02,  4.4225e-01,  7.3220e-02,\n",
            "          1.9063e-01, -1.9999e-01, -1.4860e-01,  6.3384e-01,  2.0828e-01,\n",
            "          1.5329e-01, -2.5789e-01,  2.4076e-01,  3.8442e-01, -1.2211e-01,\n",
            "          1.5616e-01, -2.4582e-01, -2.7641e-01, -3.1601e-01, -1.2290e-01,\n",
            "         -3.4828e-01, -2.1500e-01,  2.1825e-02,  2.0373e-01,  2.2602e-01,\n",
            "          3.2632e-01, -1.1104e-03,  2.7696e-01,  2.5244e-01,  2.2615e-01,\n",
            "         -3.8959e-01,  1.8398e-02, -1.8877e-01,  4.2971e-02,  3.3343e-01,\n",
            "         -2.3890e-01,  3.3140e-01,  1.1263e-01, -1.6021e-01, -6.3899e-01,\n",
            "         -3.1472e-01,  5.5883e-01,  3.1842e-01, -1.3912e-01, -4.8102e-01,\n",
            "         -2.6480e-01,  2.3726e-01, -1.7104e-01,  3.5337e-01, -1.5111e-01,\n",
            "         -3.2320e-01, -5.3749e-01, -3.0463e-01, -1.4041e-01,  2.1934e-01,\n",
            "          3.8993e-01,  3.8551e-01,  1.5195e-01, -1.7847e-01,  4.5224e-01,\n",
            "          1.6265e-01, -6.2437e-01, -3.1342e-02, -3.9069e-01, -2.5637e-01,\n",
            "          9.8979e-02, -1.0584e-01,  6.3929e-01,  1.1290e-01, -5.5041e-01,\n",
            "          2.1378e-01,  3.3109e-01, -3.6871e-01, -2.3626e-01,  4.5821e-02,\n",
            "         -7.1195e-02, -3.1696e-01,  4.8946e-01, -1.4628e-01, -6.2429e-01,\n",
            "          6.3581e-01,  2.8871e-01, -6.5940e-01, -1.6532e-01,  5.4796e-02,\n",
            "          4.3963e-01,  6.0730e-01,  4.0246e-01,  1.1256e-01, -5.7582e-01,\n",
            "         -5.7121e-02, -2.9409e-01, -3.8002e-02, -2.2813e-01, -2.0242e-02,\n",
            "          8.8491e-02,  1.5818e-01, -3.7684e-02,  1.3473e-03, -4.0591e-01,\n",
            "          2.7513e-01, -2.9811e-01,  1.4095e-01, -1.4053e-02, -3.5344e-01,\n",
            "          6.2293e-01, -3.1015e-02, -2.9124e-01,  9.8384e-02, -5.7442e-01,\n",
            "          1.3021e-01,  3.7950e-01,  4.9458e-01,  3.9485e-01, -7.7170e-02,\n",
            "         -1.1549e-01, -2.5240e-01, -3.2289e-01, -6.1262e-01,  2.5258e-02,\n",
            "         -8.6961e-02, -1.9108e-02, -1.1273e-01, -1.6190e-01,  1.1369e-02,\n",
            "          1.2762e-01,  2.7085e-01, -3.0642e-01, -1.4931e-01,  1.1406e-01,\n",
            "          1.3669e-01, -3.4500e-01, -3.5255e-02, -3.8654e-01, -1.6928e-01,\n",
            "          3.3739e-01, -1.4253e-01, -1.4020e-01, -2.7591e-01,  4.7727e-01,\n",
            "         -3.2240e-01, -2.0649e-01,  4.1124e-01, -5.0291e-02,  5.3955e-01,\n",
            "          3.6357e-01, -2.6029e-01,  2.1099e-01,  6.1628e-01, -2.4499e-01,\n",
            "         -1.3030e-01,  1.3693e-01, -2.8804e-01,  3.4741e-01, -3.1874e-01,\n",
            "         -1.0990e-01,  4.0478e-01,  2.9202e-01, -1.1562e-01, -5.1133e-01,\n",
            "         -2.3271e-01,  2.2044e-01, -7.1980e-01, -4.8248e-01,  1.6723e-01,\n",
            "          3.2837e-01, -6.4432e-01, -5.8385e-02, -7.8352e-02, -5.0840e-01,\n",
            "          3.9239e-01, -4.1694e-01,  1.3134e-01,  2.8518e-01, -2.9123e-02,\n",
            "          3.8050e-01,  3.3259e-02, -2.4961e-01,  5.1801e-01,  2.4550e-01,\n",
            "          3.9141e-01,  3.4007e-02,  1.8984e-01, -1.2923e-01,  2.8054e-01,\n",
            "         -3.3415e-01, -1.3805e-01,  5.6552e-01, -8.3362e-02,  4.3304e-01,\n",
            "          4.3989e-02, -2.4497e-01, -1.5230e-01, -6.0289e-01,  7.7974e-02,\n",
            "         -1.6426e-01,  2.2094e-01,  2.5300e-01, -3.4203e-01, -2.2497e-02,\n",
            "         -3.7337e-01, -3.7201e-01, -3.6460e-01,  2.2018e-01,  4.5440e-01,\n",
            "         -3.0296e-01, -3.3578e-01, -5.8803e-01, -3.9903e-01,  5.1416e-01,\n",
            "          1.4251e-01,  2.9617e-01,  4.4918e-01,  2.2547e-01, -2.9118e-01,\n",
            "          1.9495e-01, -5.7006e-01, -3.3847e-01,  4.0199e-01,  7.0937e-02,\n",
            "         -1.3594e-01,  2.1632e-01, -5.9070e-01, -5.8832e-01,  2.1341e-01,\n",
            "          2.1241e-01,  6.0595e-01,  7.6803e-02, -3.8032e-01, -1.0532e-02,\n",
            "          8.9522e-02,  1.6240e-02,  6.4228e-01,  3.1219e-01,  1.3638e-01,\n",
            "         -2.6924e-01,  3.6033e-01,  7.9321e-03,  3.8452e-01,  5.3131e-01,\n",
            "          8.2502e-02, -1.1449e-01, -1.6102e-01,  5.0530e-01,  1.5665e-02,\n",
            "         -7.6829e-02, -2.5383e-01,  2.4232e-01,  4.8648e-01,  3.8091e-02,\n",
            "         -2.7210e-01,  3.1758e-01,  2.4180e-01, -5.3170e-01,  1.1231e-01,\n",
            "         -1.3965e-01, -2.8026e-01,  4.1459e-01, -2.9310e-01,  1.2007e-01,\n",
            "          2.2429e-01, -4.5392e-01,  2.5694e-01,  1.7248e-01,  1.2114e-01,\n",
            "         -2.6525e-01, -7.0704e-02,  1.5283e-01, -1.6926e-01, -1.3494e-02,\n",
            "          2.1274e-01, -3.5872e-01,  2.2130e-01, -1.1550e-01,  2.4638e-01,\n",
            "         -2.6678e-01, -1.5258e-01,  5.4253e-02,  2.4424e-01,  2.0556e-01,\n",
            "          2.6594e-01,  2.9630e-01,  4.3469e-01, -7.4513e-01,  3.2909e-02,\n",
            "          3.5685e-01,  1.1004e-01, -4.1517e-01,  4.4810e-01,  2.6604e-01,\n",
            "          1.7605e-01,  1.5017e-02,  3.9449e-01, -3.5160e-01,  1.6669e-01,\n",
            "         -2.7542e-01,  5.4398e-02,  2.7566e-01, -3.4029e-01,  4.2729e-02,\n",
            "         -2.7505e-01, -1.0244e-01,  5.2421e-01,  4.3617e-01,  6.2410e-02,\n",
            "          4.8813e-01, -2.1591e-01, -1.2072e-01,  1.2395e-01, -5.9382e-02,\n",
            "         -2.2335e-01,  1.4425e-01, -1.1688e-01,  1.8504e-01, -7.2601e-01,\n",
            "         -1.1445e-01,  4.1985e-02,  4.2060e-01, -5.5814e-02, -7.1390e-02,\n",
            "         -5.7280e-01,  1.6702e-01,  3.6174e-01, -1.6998e-01,  1.7672e-01,\n",
            "         -3.6940e-01, -3.1064e-02, -7.9569e-02, -3.6321e-02, -1.7202e-01,\n",
            "         -3.8721e-01, -1.9902e-01, -2.1471e-01, -2.0797e-01, -5.2411e-02,\n",
            "         -7.7752e-02,  4.9551e-01,  4.3322e-01, -3.4294e-02, -1.3240e-01,\n",
            "          4.3430e-01,  1.2335e-01, -1.3039e-01,  3.0667e-01, -4.8510e-01,\n",
            "          1.3967e-03,  3.9242e-01,  1.7245e-01,  4.5041e-01,  5.1808e-01,\n",
            "          3.5566e-01,  5.4274e-01, -4.3755e-01, -4.9120e-01,  2.5894e-01,\n",
            "          5.2063e-01, -1.9677e-02, -6.9118e-01, -4.1943e-01, -1.4451e-01,\n",
            "         -2.6120e-01,  2.4324e-01,  7.8252e-01, -2.9357e-01, -5.3554e-01,\n",
            "          4.1204e-01, -3.5576e-01,  9.8653e-04,  2.4710e-01, -1.1796e-01,\n",
            "          1.5781e-01,  5.7128e-01, -7.5141e-02,  1.3342e-01,  2.6325e-01,\n",
            "         -1.5691e-01, -2.2422e-01, -2.6526e-01, -3.8131e-01,  3.0811e-01,\n",
            "          2.5839e-01, -4.1451e-01, -1.9340e-01, -4.6912e-01, -1.9781e-01,\n",
            "          1.4846e-01,  3.5561e-01, -2.3025e-01, -3.0261e-01,  5.4366e-01,\n",
            "          1.0707e-01,  3.4947e-01, -4.3757e-01,  3.2720e-01,  3.7935e-01,\n",
            "         -1.0967e-01, -4.9235e-01,  2.1016e-01, -8.2067e-02,  3.0756e-01,\n",
            "         -4.2888e-01, -2.1135e-01, -3.9563e-02, -5.0227e-01,  2.0220e-01,\n",
            "          2.7020e-01,  2.8938e-01,  2.1228e-01, -1.5896e-01, -1.5536e-01,\n",
            "         -3.5366e-01,  2.4153e-02,  3.5295e-01,  4.3399e-02, -5.7006e-02,\n",
            "         -3.8020e-01,  8.8555e-02,  4.6818e-02,  3.5012e-01, -3.7962e-01,\n",
            "          4.5261e-01, -2.9525e-01,  3.0798e-01, -4.2926e-01, -3.8725e-01,\n",
            "          4.7875e-01,  3.8030e-01, -1.8279e-02, -1.3622e-01, -3.3983e-01,\n",
            "          5.2880e-01, -4.3329e-01, -4.1383e-01,  1.1682e-01,  5.6998e-01,\n",
            "          3.4695e-01,  3.2424e-01,  3.6390e-01, -3.8282e-02, -6.1695e-02,\n",
            "          5.4140e-01,  3.3344e-01, -7.0617e-02, -1.6307e-02,  6.0051e-01,\n",
            "         -4.5125e-02,  2.7955e-01, -2.4602e-01,  4.5997e-01, -1.5552e-01,\n",
            "          2.1460e-01,  9.3331e-02, -4.5888e-01,  8.4151e-02,  3.5950e-01,\n",
            "         -3.2722e-01,  3.2284e-01, -3.5879e-01,  4.0055e-02,  8.3918e-01,\n",
            "          5.3246e-01,  4.1902e-01, -1.0510e-01, -1.5825e-01,  4.8091e-02,\n",
            "         -7.4050e-02,  4.0369e-01,  3.2404e-01, -1.8749e-01,  4.8997e-01,\n",
            "          4.8278e-01,  7.8670e-02,  3.2667e-01, -3.0281e-01, -4.6954e-01,\n",
            "         -3.0730e-01,  3.2928e-02, -3.6692e-01, -3.5353e-01,  1.5386e-01,\n",
            "          1.4755e-01,  4.1942e-01, -1.4010e-02, -6.5240e-02,  3.5286e-01,\n",
            "         -2.1794e-01, -4.9562e-01, -4.5349e-02,  3.7956e-01,  7.9772e-02,\n",
            "         -2.7902e-01,  1.0437e-01, -5.7524e-01,  2.2542e-01,  3.5952e-02,\n",
            "         -3.9617e-01,  1.8577e-01, -7.0323e-03,  3.2741e-01,  2.0309e-01,\n",
            "         -6.9004e-02, -2.2550e-01,  2.4451e-01,  3.1999e-02,  1.6934e-01,\n",
            "         -3.2761e-01, -2.9441e-01, -5.2444e-01,  9.3802e-02, -3.9519e-01,\n",
            "         -5.2649e-01,  3.4978e-01,  1.2131e-01, -3.3513e-01, -1.0402e-01,\n",
            "          2.5920e-01, -1.8033e-02,  3.6939e-01,  7.2336e-02, -2.6261e-01,\n",
            "         -3.7675e-01, -8.5381e-02, -1.7074e-01,  4.7789e-01, -3.8626e-01,\n",
            "          5.6075e-01, -4.5340e-01, -2.5411e-01,  3.9264e-01,  1.1024e-01,\n",
            "         -2.6347e-02, -4.2679e-01,  1.8857e-01,  6.6794e-02, -1.2201e-01,\n",
            "          4.5837e-01,  2.6061e-01,  5.0112e-03,  2.1659e-01, -5.8275e-02,\n",
            "          2.4393e-01, -5.9822e-01,  3.8684e-01,  2.7384e-01,  1.1904e-01,\n",
            "          3.9331e-01, -5.2735e-01, -5.9734e-01,  1.3752e-01,  4.5979e-01,\n",
            "         -2.6267e-02, -2.7439e-02, -5.2904e-01, -5.5480e-02, -6.7206e-02,\n",
            "          1.7446e-01, -2.8420e-01,  2.5607e-01,  2.4587e-01, -3.3319e-01,\n",
            "         -1.2685e-01,  6.4007e-01, -8.2740e-02,  3.6031e-01, -4.1076e-01,\n",
            "          1.5450e-01,  6.2144e-01,  4.7771e-01,  1.2139e-01, -1.8256e-01,\n",
            "         -2.0446e-01,  3.6829e-01, -4.0153e-01,  9.7514e-02,  3.6133e-02,\n",
            "         -7.3961e-02, -5.2759e-01,  2.7630e-02,  8.3961e-02,  1.1431e-01,\n",
            "          3.5768e-01,  5.0271e-01,  1.7122e-01,  6.4350e-02, -1.5055e-01,\n",
            "          3.3589e-02,  2.5555e-01,  3.4854e-01,  4.6392e-01, -3.6152e-02,\n",
            "          2.4758e-01,  3.5429e-01,  1.4750e-01, -4.8027e-01,  2.5313e-01,\n",
            "         -2.4455e-01, -3.5565e-02, -2.4576e-01,  4.3636e-01,  5.3573e-01,\n",
            "          3.7967e-01, -3.9192e-01, -9.9481e-01, -3.4361e-01, -9.5839e-02,\n",
            "         -4.5493e-02,  3.9867e-02,  2.2846e-01, -3.8820e-01, -1.6636e-02,\n",
            "          2.1827e-01,  1.4724e-01, -1.0268e-01, -2.2154e-01, -2.7804e-01,\n",
            "         -2.2448e-01,  4.0042e-01,  5.3856e-02,  6.6794e-01,  1.0004e-01,\n",
            "          3.8335e-01, -3.8569e-02, -1.8365e-01,  1.1241e-01, -3.2116e-01,\n",
            "          3.3939e-01, -4.2062e-02,  2.9935e-01, -3.1129e-01,  4.9988e-01,\n",
            "          1.4135e-01,  4.3740e-01, -3.1474e-01,  1.4657e-01, -2.0115e-01,\n",
            "          3.1770e-01,  1.5403e-01, -3.0735e-01,  8.6712e-02,  1.2353e-01,\n",
            "          3.0205e-01, -5.4702e-01, -5.3643e-01, -2.2833e-01,  4.1782e-02,\n",
            "         -6.7829e-02,  4.0405e-01, -4.3724e-01,  3.5180e-01,  5.5086e-02,\n",
            "          1.9568e-01,  3.1764e-02, -4.5857e-01, -1.5019e-01,  3.9017e-01,\n",
            "          3.8333e-01,  2.2201e-01,  2.7521e-01, -1.5375e-01,  5.3252e-01,\n",
            "         -1.9676e-01,  3.8616e-01, -6.2728e-01, -4.3413e-02,  1.8053e-02,\n",
            "         -1.9956e-01, -3.7813e-01,  2.4682e-02, -1.1719e-01, -4.0876e-02,\n",
            "         -2.6470e-01, -1.1756e-01,  2.6227e-01, -6.2054e-02, -2.5614e-01,\n",
            "         -1.8542e-02, -4.0786e-01, -1.7801e-01,  2.3566e-01,  5.0109e-01,\n",
            "          6.5129e-02, -5.7423e-01, -4.5141e-02, -2.4746e-02,  4.6065e-02,\n",
            "          1.9336e-01, -3.2298e-01,  2.8552e-02, -5.1774e-02,  2.5002e-01,\n",
            "         -5.1388e-01,  1.9073e-01,  6.0856e-02, -3.5197e-01,  4.5065e-01,\n",
            "         -1.2795e-01,  6.8784e-02, -1.9308e-01, -2.3142e-01,  8.8396e-02,\n",
            "          2.9327e-01, -1.0041e-01, -6.1208e-01, -2.9878e-01, -1.0620e-01,\n",
            "          1.6389e-01,  1.1028e-01, -2.8446e-01,  3.5040e-01,  3.9852e-01,\n",
            "          1.2375e-01,  1.3324e-01,  9.9571e-04, -1.4668e-01, -2.8268e-01,\n",
            "         -4.3464e-01,  3.6692e-01,  5.3282e-01, -1.9007e-01,  2.9963e-01,\n",
            "          4.9771e-01, -3.7874e-01,  2.9294e-02, -1.3721e-01,  1.3467e-01,\n",
            "         -3.8893e-02, -8.7303e-02, -2.7916e-01, -7.0255e-01, -1.0485e-01,\n",
            "         -3.8988e-01,  2.0203e-01,  4.5938e-01,  1.9899e-01, -4.3870e-01,\n",
            "          1.2775e-01,  4.7868e-01, -6.0174e-02]]), hidden_states=None, attentions=None)\n"
          ]
        }
      ]
    },
    {
      "cell_type": "code",
      "source": [
        "\n",
        "pooler_output = outputs.pooler_output\n"
      ],
      "metadata": {
        "id": "S8knVhzunM7D"
      },
      "execution_count": null,
      "outputs": []
    },
    {
      "cell_type": "code",
      "source": [
        "import torch.nn as nn\n",
        "\n",
        "class ClassificationHead(nn.Module):\n",
        "    def __init__(self, hidden_size, num_classes):\n",
        "        super(ClassificationHead, self).__init__()\n",
        "        self.fc = nn.Linear(hidden_size, num_classes)\n",
        "\n",
        "    def forward(self, x):\n",
        "        return self.fc(x)\n",
        "\n",
        "hidden_size = pooler_output.size(-1)\n",
        "num_classes = 2\n",
        "\n",
        "classification_head = ClassificationHead(hidden_size, num_classes)\n",
        "logits = classification_head(pooler_output)\n"
      ],
      "metadata": {
        "id": "Q6nUi5A5nPGY"
      },
      "execution_count": null,
      "outputs": []
    },
    {
      "cell_type": "code",
      "source": [
        "import torch.nn.functional as F\n",
        "\n",
        "probabilities = F.softmax(logits, dim=-1)\n",
        "\n",
        "predicted_class = torch.argmax(probabilities, dim=-1).item()\n",
        "\n",
        "# Map to class labels\n",
        "class_labels = ['Healthy', 'Disease']\n",
        "predicted_label = class_labels[predicted_class]\n",
        "\n",
        "print(f'Prediction: {predicted_label} (Probability: {probabilities.max().item():.2f})')\n"
      ],
      "metadata": {
        "colab": {
          "base_uri": "https://localhost:8080/"
        },
        "id": "fVzhsnQanUxH",
        "outputId": "dda2d09a-ac06-4e07-bdab-e7ddaea32cf3"
      },
      "execution_count": null,
      "outputs": [
        {
          "output_type": "stream",
          "name": "stdout",
          "text": [
            "Prediction: Healthy (Probability: 0.54)\n"
          ]
        }
      ]
    },
    {
      "cell_type": "code",
      "source": [
        "\n",
        "#  image and prediction\n",
        "plt.imshow(resized_image)\n",
        "plt.title(f'Prediction: {predicted_label} (Probability: {probabilities.max().item():.2f})')\n",
        "plt.axis('off')\n",
        "plt.show()\n"
      ],
      "metadata": {
        "colab": {
          "base_uri": "https://localhost:8080/",
          "height": 428
        },
        "id": "9mCZI9O6oKVf",
        "outputId": "32fd6c34-0cf0-4fa1-d1d9-5d31dd81544a"
      },
      "execution_count": null,
      "outputs": [
        {
          "output_type": "display_data",
          "data": {
            "text/plain": [
              "<Figure size 640x480 with 1 Axes>"
            ],
            "image/png": "[encoded data removed]"
          },
          "metadata": {}
        }
      ]
    },
    {
      "cell_type": "code",
      "source": [
        "\n",
        "print(type(outputs))\n",
        "print(outputs)\n"
      ],
      "metadata": {
        "colab": {
          "base_uri": "https://localhost:8080/"
        },
        "id": "rOGYNaVm18uz",
        "outputId": "db07d03c-64b7-4c64-af0a-110121788464"
      },
      "execution_count": null,
      "outputs": [
        {
          "output_type": "stream",
          "name": "stdout",
          "text": [
            "<class 'transformers.modeling_outputs.BaseModelOutputWithPooling'>\n",
            "BaseModelOutputWithPooling(last_hidden_state=tensor([[[ 0.1578,  0.0324, -0.0249,  ..., -0.0903,  0.0900,  0.0311],\n",
            "         [ 0.2211,  0.1735,  0.0658,  ..., -0.1452,  0.1654, -0.0408],\n",
            "         [ 0.4592,  0.1753, -0.0332,  ..., -0.2281,  0.2076,  0.2728],\n",
            "         ...,\n",
            "         [ 0.4083,  0.0689, -0.0745,  ..., -0.2525,  0.1955,  0.1361],\n",
            "         [ 0.3734,  0.0997, -0.0775,  ..., -0.2481,  0.2317,  0.1346],\n",
            "         [ 0.1869,  0.1362,  0.0018,  ..., -0.0640,  0.1804, -0.0536]]]), pooler_output=tensor([[ 9.6735e-02,  1.1180e-01, -3.2319e-01,  2.6224e-01, -6.3224e-01,\n",
            "          3.7249e-01, -2.1728e-01,  4.2970e-01, -1.2178e-01, -4.4417e-01,\n",
            "         -3.6254e-01,  2.6215e-01, -1.0505e-01,  1.8206e-01, -4.9334e-01,\n",
            "          1.7544e-01, -1.0344e-01,  2.6163e-01, -3.9785e-01,  1.1728e-01,\n",
            "          2.5853e-01, -3.1804e-01,  7.9825e-02,  1.9799e-01,  1.5292e-01,\n",
            "          6.5822e-03, -8.2026e-02, -3.0557e-01,  1.0060e-01, -1.4959e-01,\n",
            "          1.5214e-01,  6.0768e-01,  4.7122e-02,  4.4403e-01,  7.2284e-02,\n",
            "          1.9468e-01, -2.0039e-01, -1.4748e-01,  6.3422e-01,  2.0782e-01,\n",
            "          1.5115e-01, -2.5716e-01,  2.4240e-01,  3.8418e-01, -1.2250e-01,\n",
            "          1.5560e-01, -2.4277e-01, -2.7539e-01, -3.1551e-01, -1.2176e-01,\n",
            "         -3.4649e-01, -2.1425e-01,  2.0298e-02,  2.0330e-01,  2.2644e-01,\n",
            "          3.2791e-01, -2.6297e-03,  2.7610e-01,  2.5218e-01,  2.2537e-01,\n",
            "         -3.9170e-01,  1.9069e-02, -1.8863e-01,  4.3817e-02,  3.3450e-01,\n",
            "         -2.4011e-01,  3.3173e-01,  1.1462e-01, -1.5797e-01, -6.3819e-01,\n",
            "         -3.1602e-01,  5.5890e-01,  3.1749e-01, -1.3739e-01, -4.8067e-01,\n",
            "         -2.6726e-01,  2.3854e-01, -1.6860e-01,  3.5464e-01, -1.5127e-01,\n",
            "         -3.2170e-01, -5.3825e-01, -3.0658e-01, -1.3934e-01,  2.1924e-01,\n",
            "          3.9191e-01,  3.8328e-01,  1.5286e-01, -1.7964e-01,  4.5413e-01,\n",
            "          1.6267e-01, -6.2554e-01, -3.3392e-02, -3.9105e-01, -2.5371e-01,\n",
            "          9.7946e-02, -1.0656e-01,  6.3948e-01,  1.1040e-01, -5.4783e-01,\n",
            "          2.1384e-01,  3.3059e-01, -3.6916e-01, -2.3590e-01,  4.6055e-02,\n",
            "         -7.0748e-02, -3.1790e-01,  4.9007e-01, -1.4815e-01, -6.2395e-01,\n",
            "          6.3619e-01,  2.8901e-01, -6.6030e-01, -1.6460e-01,  5.3152e-02,\n",
            "          4.4088e-01,  6.0690e-01,  4.0397e-01,  1.1346e-01, -5.7578e-01,\n",
            "         -5.5158e-02, -2.9580e-01, -3.7272e-02, -2.2963e-01, -1.8576e-02,\n",
            "          8.8363e-02,  1.5741e-01, -3.7259e-02,  5.0415e-04, -4.0461e-01,\n",
            "          2.7391e-01, -2.9642e-01,  1.4197e-01, -1.4706e-02, -3.5375e-01,\n",
            "          6.2405e-01, -3.1296e-02, -2.9226e-01,  9.6391e-02, -5.7481e-01,\n",
            "          1.3194e-01,  3.8001e-01,  4.9495e-01,  3.9452e-01, -7.6237e-02,\n",
            "         -1.1542e-01, -2.5361e-01, -3.2424e-01, -6.1258e-01,  2.5399e-02,\n",
            "         -8.7291e-02, -1.9557e-02, -1.1232e-01, -1.6347e-01,  8.6848e-03,\n",
            "          1.2827e-01,  2.7144e-01, -3.0451e-01, -1.4955e-01,  1.1441e-01,\n",
            "          1.3643e-01, -3.4591e-01, -3.2985e-02, -3.8943e-01, -1.6771e-01,\n",
            "          3.3878e-01, -1.4222e-01, -1.3895e-01, -2.7570e-01,  4.7919e-01,\n",
            "         -3.2413e-01, -2.0582e-01,  4.0974e-01, -5.3394e-02,  5.4133e-01,\n",
            "          3.6465e-01, -2.6156e-01,  2.0994e-01,  6.1534e-01, -2.4611e-01,\n",
            "         -1.2752e-01,  1.3582e-01, -2.8898e-01,  3.4557e-01, -3.1908e-01,\n",
            "         -1.1031e-01,  4.0417e-01,  2.9203e-01, -1.1322e-01, -5.1094e-01,\n",
            "         -2.3372e-01,  2.2271e-01, -7.1871e-01, -4.8252e-01,  1.6774e-01,\n",
            "          3.2827e-01, -6.4459e-01, -5.7776e-02, -8.3043e-02, -5.1079e-01,\n",
            "          3.9493e-01, -4.1700e-01,  1.3080e-01,  2.8528e-01, -3.0557e-02,\n",
            "          3.8130e-01,  3.4307e-02, -2.4957e-01,  5.1773e-01,  2.4617e-01,\n",
            "          3.9452e-01,  3.4369e-02,  1.9176e-01, -1.2934e-01,  2.8281e-01,\n",
            "         -3.3328e-01, -1.3715e-01,  5.6551e-01, -8.3096e-02,  4.3207e-01,\n",
            "          4.4500e-02, -2.4572e-01, -1.5084e-01, -6.0403e-01,  7.7708e-02,\n",
            "         -1.6295e-01,  2.2217e-01,  2.5233e-01, -3.4001e-01, -2.2637e-02,\n",
            "         -3.7429e-01, -3.7015e-01, -3.6463e-01,  2.1894e-01,  4.5395e-01,\n",
            "         -3.0148e-01, -3.3368e-01, -5.8944e-01, -3.9951e-01,  5.1172e-01,\n",
            "          1.4398e-01,  2.9706e-01,  4.4910e-01,  2.2537e-01, -2.9267e-01,\n",
            "          1.9417e-01, -5.7116e-01, -3.4001e-01,  4.0253e-01,  6.9798e-02,\n",
            "         -1.3616e-01,  2.1468e-01, -5.8869e-01, -5.8821e-01,  2.1331e-01,\n",
            "          2.0886e-01,  6.0796e-01,  7.6833e-02, -3.8208e-01, -1.2075e-02,\n",
            "          8.7389e-02,  1.5131e-02,  6.4460e-01,  3.1261e-01,  1.3494e-01,\n",
            "         -2.6636e-01,  3.6121e-01,  6.5384e-03,  3.8577e-01,  5.3154e-01,\n",
            "          8.1023e-02, -1.1251e-01, -1.6036e-01,  5.0595e-01,  1.2926e-02,\n",
            "         -7.9519e-02, -2.5092e-01,  2.4455e-01,  4.8750e-01,  3.7701e-02,\n",
            "         -2.7275e-01,  3.1594e-01,  2.4366e-01, -5.3333e-01,  1.1284e-01,\n",
            "         -1.3974e-01, -2.8107e-01,  4.1554e-01, -2.9228e-01,  1.2131e-01,\n",
            "          2.2455e-01, -4.5353e-01,  2.5488e-01,  1.7339e-01,  1.2012e-01,\n",
            "         -2.6436e-01, -7.1869e-02,  1.5359e-01, -1.6850e-01, -1.3750e-02,\n",
            "          2.1451e-01, -3.5814e-01,  2.2148e-01, -1.1597e-01,  2.4515e-01,\n",
            "         -2.6538e-01, -1.5422e-01,  5.4166e-02,  2.4145e-01,  2.0621e-01,\n",
            "          2.6468e-01,  2.9840e-01,  4.3417e-01, -7.4493e-01,  3.1680e-02,\n",
            "          3.5649e-01,  1.1122e-01, -4.1791e-01,  4.4769e-01,  2.6469e-01,\n",
            "          1.7729e-01,  1.4222e-02,  3.9225e-01, -3.5130e-01,  1.6574e-01,\n",
            "         -2.7671e-01,  5.3731e-02,  2.7752e-01, -3.3902e-01,  4.1568e-02,\n",
            "         -2.7595e-01, -1.0270e-01,  5.2427e-01,  4.3797e-01,  6.1938e-02,\n",
            "          4.8861e-01, -2.1495e-01, -1.2099e-01,  1.2331e-01, -5.7828e-02,\n",
            "         -2.2399e-01,  1.4265e-01, -1.1457e-01,  1.8568e-01, -7.2652e-01,\n",
            "         -1.1455e-01,  4.1919e-02,  4.2010e-01, -5.6299e-02, -7.2274e-02,\n",
            "         -5.7407e-01,  1.6949e-01,  3.6048e-01, -1.6943e-01,  1.7578e-01,\n",
            "         -3.6828e-01, -3.0780e-02, -7.9562e-02, -3.6087e-02, -1.7171e-01,\n",
            "         -3.8798e-01, -1.9620e-01, -2.1448e-01, -2.0661e-01, -5.2947e-02,\n",
            "         -8.0276e-02,  4.9522e-01,  4.3496e-01, -3.5769e-02, -1.3176e-01,\n",
            "          4.3484e-01,  1.2320e-01, -1.2992e-01,  3.0835e-01, -4.8322e-01,\n",
            "          3.4812e-03,  3.9417e-01,  1.7259e-01,  4.5123e-01,  5.2076e-01,\n",
            "          3.5573e-01,  5.4317e-01, -4.3857e-01, -4.9240e-01,  2.5704e-01,\n",
            "          5.2022e-01, -1.8260e-02, -6.8998e-01, -4.1918e-01, -1.4532e-01,\n",
            "         -2.6470e-01,  2.4246e-01,  7.8336e-01, -2.9455e-01, -5.3639e-01,\n",
            "          4.1342e-01, -3.5554e-01,  8.2497e-04,  2.4572e-01, -1.2092e-01,\n",
            "          1.5694e-01,  5.7208e-01, -7.6187e-02,  1.3226e-01,  2.6284e-01,\n",
            "         -1.5649e-01, -2.2381e-01, -2.6433e-01, -3.8023e-01,  3.0716e-01,\n",
            "          2.5950e-01, -4.1396e-01, -1.9266e-01, -4.6905e-01, -1.9842e-01,\n",
            "          1.4886e-01,  3.5643e-01, -2.3160e-01, -3.0237e-01,  5.4410e-01,\n",
            "          1.0699e-01,  3.5066e-01, -4.3634e-01,  3.2990e-01,  3.8022e-01,\n",
            "         -1.1022e-01, -4.9306e-01,  2.0856e-01, -8.1223e-02,  3.0599e-01,\n",
            "         -4.2875e-01, -2.1161e-01, -4.0412e-02, -5.0279e-01,  2.0333e-01,\n",
            "          2.7162e-01,  2.8939e-01,  2.1177e-01, -1.6177e-01, -1.5556e-01,\n",
            "         -3.5340e-01,  2.5564e-02,  3.5105e-01,  4.3234e-02, -5.7834e-02,\n",
            "         -3.8130e-01,  8.7808e-02,  4.6950e-02,  3.5140e-01, -3.7918e-01,\n",
            "          4.5158e-01, -2.9356e-01,  3.0827e-01, -4.3121e-01, -3.9049e-01,\n",
            "          4.7894e-01,  3.8192e-01, -1.6895e-02, -1.3609e-01, -3.3915e-01,\n",
            "          5.2716e-01, -4.3286e-01, -4.1602e-01,  1.1747e-01,  5.7103e-01,\n",
            "          3.4798e-01,  3.2271e-01,  3.6535e-01, -4.1432e-02, -5.8386e-02,\n",
            "          5.4143e-01,  3.3321e-01, -7.2253e-02, -1.8485e-02,  6.0124e-01,\n",
            "         -4.4959e-02,  2.8119e-01, -2.4816e-01,  4.6032e-01, -1.5379e-01,\n",
            "          2.1756e-01,  9.5168e-02, -4.5945e-01,  8.5119e-02,  3.5844e-01,\n",
            "         -3.2765e-01,  3.2160e-01, -3.5799e-01,  4.0262e-02,  8.3977e-01,\n",
            "          5.3309e-01,  4.2066e-01, -1.0662e-01, -1.5814e-01,  4.5199e-02,\n",
            "         -7.2669e-02,  4.0449e-01,  3.2453e-01, -1.8993e-01,  4.9200e-01,\n",
            "          4.8246e-01,  7.8067e-02,  3.2764e-01, -3.0337e-01, -4.6738e-01,\n",
            "         -3.0656e-01,  3.3312e-02, -3.7005e-01, -3.5439e-01,  1.5218e-01,\n",
            "          1.4781e-01,  4.1964e-01, -1.5750e-02, -6.7572e-02,  3.5327e-01,\n",
            "         -2.1648e-01, -4.9583e-01, -4.9506e-02,  3.7827e-01,  8.1712e-02,\n",
            "         -2.7709e-01,  1.0606e-01, -5.7659e-01,  2.2666e-01,  3.4237e-02,\n",
            "         -3.9604e-01,  1.8477e-01, -6.3290e-03,  3.2813e-01,  2.0324e-01,\n",
            "         -6.9513e-02, -2.2661e-01,  2.4426e-01,  3.2661e-02,  1.7048e-01,\n",
            "         -3.2916e-01, -2.9670e-01, -5.2346e-01,  9.2673e-02, -3.9755e-01,\n",
            "         -5.2771e-01,  3.5036e-01,  1.2232e-01, -3.3354e-01, -1.0484e-01,\n",
            "          2.5970e-01, -1.5564e-02,  3.6879e-01,  6.9848e-02, -2.6602e-01,\n",
            "         -3.7525e-01, -8.7226e-02, -1.6802e-01,  4.7656e-01, -3.8705e-01,\n",
            "          5.6179e-01, -4.5095e-01, -2.5600e-01,  3.9235e-01,  1.1321e-01,\n",
            "         -2.7986e-02, -4.2856e-01,  1.8924e-01,  6.6775e-02, -1.2285e-01,\n",
            "          4.5926e-01,  2.6156e-01,  3.9265e-03,  2.1810e-01, -6.0038e-02,\n",
            "          2.4428e-01, -5.9691e-01,  3.8657e-01,  2.7291e-01,  1.1720e-01,\n",
            "          3.9362e-01, -5.2819e-01, -5.9714e-01,  1.3661e-01,  4.5982e-01,\n",
            "         -2.8792e-02, -2.7540e-02, -5.2834e-01, -5.6001e-02, -7.1649e-02,\n",
            "          1.7573e-01, -2.8388e-01,  2.5423e-01,  2.4794e-01, -3.3342e-01,\n",
            "         -1.2481e-01,  6.3953e-01, -8.2474e-02,  3.5869e-01, -4.1174e-01,\n",
            "          1.5377e-01,  6.2162e-01,  4.7913e-01,  1.2311e-01, -1.8273e-01,\n",
            "         -2.0650e-01,  3.6860e-01, -4.0132e-01,  9.5185e-02,  3.7466e-02,\n",
            "         -7.6946e-02, -5.2896e-01,  2.6677e-02,  8.3413e-02,  1.1193e-01,\n",
            "          3.6018e-01,  5.0343e-01,  1.7180e-01,  6.5992e-02, -1.5250e-01,\n",
            "          3.2731e-02,  2.5682e-01,  3.4925e-01,  4.6521e-01, -3.4878e-02,\n",
            "          2.4928e-01,  3.5462e-01,  1.4588e-01, -4.7997e-01,  2.5471e-01,\n",
            "         -2.4536e-01, -3.5504e-02, -2.4582e-01,  4.3852e-01,  5.3706e-01,\n",
            "          3.8074e-01, -3.9259e-01, -9.9480e-01, -3.4443e-01, -9.4188e-02,\n",
            "         -4.9194e-02,  4.1312e-02,  2.2918e-01, -3.8934e-01, -1.5754e-02,\n",
            "          2.1815e-01,  1.4628e-01, -9.9790e-02, -2.2286e-01, -2.7896e-01,\n",
            "         -2.2661e-01,  4.0009e-01,  5.5381e-02,  6.6781e-01,  9.9343e-02,\n",
            "          3.8313e-01, -3.7100e-02, -1.8556e-01,  1.0980e-01, -3.2489e-01,\n",
            "          3.3898e-01, -4.0440e-02,  2.9688e-01, -3.0965e-01,  5.0081e-01,\n",
            "          1.4119e-01,  4.3537e-01, -3.1363e-01,  1.4506e-01, -2.0234e-01,\n",
            "          3.1952e-01,  1.5354e-01, -3.0691e-01,  8.5322e-02,  1.2511e-01,\n",
            "          3.0150e-01, -5.4641e-01, -5.3758e-01, -2.2857e-01,  4.3331e-02,\n",
            "         -6.9390e-02,  4.0569e-01, -4.3726e-01,  3.5223e-01,  5.7170e-02,\n",
            "          1.9657e-01,  3.1741e-02, -4.5753e-01, -1.5231e-01,  3.9179e-01,\n",
            "          3.8500e-01,  2.2300e-01,  2.7610e-01, -1.5307e-01,  5.3232e-01,\n",
            "         -2.0077e-01,  3.8572e-01, -6.2735e-01, -4.4874e-02,  1.8048e-02,\n",
            "         -2.0100e-01, -3.7855e-01,  2.6044e-02, -1.1100e-01, -4.0979e-02,\n",
            "         -2.6553e-01, -1.1688e-01,  2.6334e-01, -6.0821e-02, -2.5332e-01,\n",
            "         -1.7510e-02, -4.0750e-01, -1.7737e-01,  2.3405e-01,  5.0220e-01,\n",
            "          6.8336e-02, -5.7319e-01, -4.5806e-02, -2.4053e-02,  4.5732e-02,\n",
            "          1.9415e-01, -3.2351e-01,  2.8181e-02, -4.9127e-02,  2.5161e-01,\n",
            "         -5.1298e-01,  1.8992e-01,  6.0995e-02, -3.5126e-01,  4.5281e-01,\n",
            "         -1.2795e-01,  7.3199e-02, -1.9477e-01, -2.3433e-01,  8.8950e-02,\n",
            "          2.9518e-01, -9.8772e-02, -6.1351e-01, -2.9698e-01, -1.0469e-01,\n",
            "          1.6376e-01,  1.0951e-01, -2.8459e-01,  3.4961e-01,  3.9901e-01,\n",
            "          1.2377e-01,  1.3128e-01,  1.0836e-03, -1.4381e-01, -2.8252e-01,\n",
            "         -4.3565e-01,  3.6775e-01,  5.3206e-01, -1.9115e-01,  2.9869e-01,\n",
            "          4.9939e-01, -3.8074e-01,  3.0276e-02, -1.3692e-01,  1.3532e-01,\n",
            "         -4.0707e-02, -8.6999e-02, -2.8018e-01, -7.0296e-01, -1.0597e-01,\n",
            "         -3.8979e-01,  2.0338e-01,  4.5997e-01,  1.9933e-01, -4.3861e-01,\n",
            "          1.2900e-01,  4.7988e-01, -5.9466e-02]]), hidden_states=None, attentions=None)\n"
          ]
        }
      ]
    }
  ]
}